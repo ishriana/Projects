{
 "cells": [
  {
   "cell_type": "code",
   "execution_count": 1,
   "id": "wooden-understanding",
   "metadata": {},
   "outputs": [],
   "source": [
    "from pyspark import SparkConf, SparkContext"
   ]
  },
  {
   "cell_type": "code",
   "execution_count": 2,
   "id": "saved-destruction",
   "metadata": {},
   "outputs": [],
   "source": [
    "conf = SparkConf().setAppName('ishtu').setMaster('local')\n",
    "sc = SparkContext(conf=conf)"
   ]
  },
  {
   "cell_type": "markdown",
   "id": "medical-transition",
   "metadata": {},
   "source": [
    "First we ll create an RDD "
   ]
  },
  {
   "cell_type": "code",
   "execution_count": 3,
   "id": "bright-mining",
   "metadata": {},
   "outputs": [],
   "source": [
    "data = sc.textFile('C:\\\\Users\\\\ADMIN11\\\\Desktop\\\\csv\\\\books.csv')"
   ]
  },
  {
   "cell_type": "code",
   "execution_count": 4,
   "id": "marked-cabinet",
   "metadata": {},
   "outputs": [
    {
     "data": {
      "text/plain": [
       "pyspark.rdd.RDD"
      ]
     },
     "execution_count": 4,
     "metadata": {},
     "output_type": "execute_result"
    }
   ],
   "source": [
    "type(data)"
   ]
  },
  {
   "cell_type": "markdown",
   "id": "accurate-intent",
   "metadata": {},
   "source": [
    "2. spark session and then creating dataframe\n",
    "\n",
    "We ll also see some basic commanda that we can apply on to a dataframe"
   ]
  },
  {
   "cell_type": "code",
   "execution_count": 5,
   "id": "productive-hawaiian",
   "metadata": {},
   "outputs": [],
   "source": [
    "import pyspark as ps\n",
    "spark = ps.sql.SparkSession.builder.getOrCreate()"
   ]
  },
  {
   "cell_type": "code",
   "execution_count": 6,
   "id": "offshore-lightweight",
   "metadata": {},
   "outputs": [],
   "source": [
    "books_df = spark.read.csv('C:\\\\Users\\\\ADMIN11\\\\Desktop\\\\csv\\\\books.csv',\n",
    "                         header=True,inferSchema=True)"
   ]
  },
  {
   "cell_type": "code",
   "execution_count": 7,
   "id": "completed-entrance",
   "metadata": {},
   "outputs": [
    {
     "data": {
      "text/plain": [
       "pyspark.sql.dataframe.DataFrame"
      ]
     },
     "execution_count": 7,
     "metadata": {},
     "output_type": "execute_result"
    }
   ],
   "source": [
    "type(books_df)"
   ]
  },
  {
   "cell_type": "code",
   "execution_count": 8,
   "id": "large-press",
   "metadata": {},
   "outputs": [
    {
     "data": {
      "text/plain": [
       "23"
      ]
     },
     "execution_count": 8,
     "metadata": {},
     "output_type": "execute_result"
    }
   ],
   "source": [
    "len(books_df.columns)"
   ]
  },
  {
   "cell_type": "markdown",
   "id": "lovely-device",
   "metadata": {},
   "source": [
    "Creating a dataframe"
   ]
  },
  {
   "cell_type": "code",
   "execution_count": 9,
   "id": "homeless-green",
   "metadata": {},
   "outputs": [],
   "source": [
    "ratings_df = spark.read.csv('C:\\\\Users\\\\ADMIN11\\\\Desktop\\\\csv\\\\ratings.csv',\n",
    "                           header=True,inferSchema=True)"
   ]
  },
  {
   "cell_type": "code",
   "execution_count": 10,
   "id": "sound-glucose",
   "metadata": {},
   "outputs": [
    {
     "data": {
      "text/plain": [
       "pyspark.sql.dataframe.DataFrame"
      ]
     },
     "execution_count": 10,
     "metadata": {},
     "output_type": "execute_result"
    }
   ],
   "source": [
    "type(ratings_df)"
   ]
  },
  {
   "cell_type": "code",
   "execution_count": 11,
   "id": "delayed-detection",
   "metadata": {},
   "outputs": [
    {
     "data": {
      "text/plain": [
       "3"
      ]
     },
     "execution_count": 11,
     "metadata": {},
     "output_type": "execute_result"
    }
   ],
   "source": [
    "len(ratings_df.columns)"
   ]
  },
  {
   "cell_type": "code",
   "execution_count": 12,
   "id": "demographic-doctrine",
   "metadata": {},
   "outputs": [
    {
     "data": {
      "text/plain": [
       "['book_id', 'user_id', 'rating']"
      ]
     },
     "execution_count": 12,
     "metadata": {},
     "output_type": "execute_result"
    }
   ],
   "source": [
    "ratings_df.columns    #Checking columns of the data"
   ]
  },
  {
   "cell_type": "code",
   "execution_count": 13,
   "id": "structural-offering",
   "metadata": {},
   "outputs": [
    {
     "data": {
      "text/plain": [
       "['id', 'book_id', 'best_book_id', 'work_id', 'books_count']"
      ]
     },
     "execution_count": 13,
     "metadata": {},
     "output_type": "execute_result"
    }
   ],
   "source": [
    "books_df.columns[:5]    #chekcing first 5 columns of the dataset"
   ]
  },
  {
   "cell_type": "code",
   "execution_count": 14,
   "id": "maritime-support",
   "metadata": {},
   "outputs": [
    {
     "name": "stdout",
     "output_type": "stream",
     "text": [
      "root\n",
      " |-- id: integer (nullable = true)\n",
      " |-- book_id: integer (nullable = true)\n",
      " |-- best_book_id: integer (nullable = true)\n",
      " |-- work_id: integer (nullable = true)\n",
      " |-- books_count: integer (nullable = true)\n",
      " |-- isbn: string (nullable = true)\n",
      " |-- isbn13: double (nullable = true)\n",
      " |-- authors: string (nullable = true)\n",
      " |-- original_publication_year: double (nullable = true)\n",
      " |-- original_title: string (nullable = true)\n",
      " |-- title: string (nullable = true)\n",
      " |-- language_code: string (nullable = true)\n",
      " |-- average_rating: string (nullable = true)\n",
      " |-- ratings_count: string (nullable = true)\n",
      " |-- work_ratings_count: string (nullable = true)\n",
      " |-- work_text_reviews_count: string (nullable = true)\n",
      " |-- ratings_1: double (nullable = true)\n",
      " |-- ratings_2: integer (nullable = true)\n",
      " |-- ratings_3: integer (nullable = true)\n",
      " |-- ratings_4: integer (nullable = true)\n",
      " |-- ratings_5: integer (nullable = true)\n",
      " |-- image_url: string (nullable = true)\n",
      " |-- small_image_url: string (nullable = true)\n",
      "\n"
     ]
    }
   ],
   "source": [
    "books_df.printSchema()      # gives us the features of every columns \n",
    "                            # similar to df.info from pandas"
   ]
  },
  {
   "cell_type": "code",
   "execution_count": 15,
   "id": "french-raleigh",
   "metadata": {},
   "outputs": [
    {
     "name": "stdout",
     "output_type": "stream",
     "text": [
      "root\n",
      " |-- book_id: integer (nullable = true)\n",
      " |-- user_id: integer (nullable = true)\n",
      " |-- rating: integer (nullable = true)\n",
      "\n"
     ]
    }
   ],
   "source": [
    "ratings_df.printSchema()"
   ]
  },
  {
   "cell_type": "code",
   "execution_count": 16,
   "id": "toxic-cream",
   "metadata": {},
   "outputs": [
    {
     "name": "stdout",
     "output_type": "stream",
     "text": [
      "+-------+-------+------+\n",
      "|book_id|user_id|rating|\n",
      "+-------+-------+------+\n",
      "|      1|    314|     5|\n",
      "|      1|    439|     3|\n",
      "|      1|    588|     5|\n",
      "|      1|   1169|     4|\n",
      "|      1|   1185|     4|\n",
      "+-------+-------+------+\n",
      "only showing top 5 rows\n",
      "\n"
     ]
    }
   ],
   "source": [
    "ratings_df.show(5)     #show(num) will give output corresponding to num \n",
    "                        #if num is not mentioned it will give 20 rows as output"
   ]
  },
  {
   "cell_type": "code",
   "execution_count": 17,
   "id": "encouraging-potential",
   "metadata": {},
   "outputs": [],
   "source": [
    "#books_df.show()"
   ]
  },
  {
   "cell_type": "code",
   "execution_count": 18,
   "id": "atmospheric-check",
   "metadata": {},
   "outputs": [
    {
     "data": {
      "text/plain": [
       "[Row(book_id=1, user_id=314, rating=5),\n",
       " Row(book_id=1, user_id=439, rating=3),\n",
       " Row(book_id=1, user_id=588, rating=5),\n",
       " Row(book_id=1, user_id=1169, rating=4),\n",
       " Row(book_id=1, user_id=1185, rating=4)]"
      ]
     },
     "execution_count": 18,
     "metadata": {},
     "output_type": "execute_result"
    }
   ],
   "source": [
    "ratings_df.head(5)"
   ]
  },
  {
   "cell_type": "code",
   "execution_count": 19,
   "id": "confirmed-anniversary",
   "metadata": {},
   "outputs": [
    {
     "name": "stdout",
     "output_type": "stream",
     "text": [
      "+-------+------+\n",
      "|book_id|rating|\n",
      "+-------+------+\n",
      "|      1|     5|\n",
      "|      1|     3|\n",
      "|      1|     5|\n",
      "|      1|     4|\n",
      "|      1|     4|\n",
      "+-------+------+\n",
      "only showing top 5 rows\n",
      "\n"
     ]
    }
   ],
   "source": [
    "# application of select function sql\n",
    "ratings_df.select('book_id','rating').show(5)"
   ]
  },
  {
   "cell_type": "code",
   "execution_count": 20,
   "id": "annual-assistant",
   "metadata": {},
   "outputs": [
    {
     "name": "stdout",
     "output_type": "stream",
     "text": [
      "+------+-------+\n",
      "|rating|user_id|\n",
      "+------+-------+\n",
      "|     5|    314|\n",
      "|     3|    439|\n",
      "|     5|    588|\n",
      "+------+-------+\n",
      "only showing top 3 rows\n",
      "\n"
     ]
    }
   ],
   "source": [
    "ratings_df.select('rating','user_id').show(3)"
   ]
  },
  {
   "cell_type": "code",
   "execution_count": 21,
   "id": "focused-niagara",
   "metadata": {},
   "outputs": [
    {
     "name": "stdout",
     "output_type": "stream",
     "text": [
      "+-------+-------+------+\n",
      "|book_id|user_id|rating|\n",
      "+-------+-------+------+\n",
      "|      1|    439|     3|\n",
      "|      1|   5461|     3|\n",
      "|      1|   7563|     3|\n",
      "|      1|  20076|     3|\n",
      "|      1|  20467|     3|\n",
      "+-------+-------+------+\n",
      "only showing top 5 rows\n",
      "\n"
     ]
    }
   ],
   "source": [
    "# how to filter using sql\n",
    "ratings_df.filter('rating=3').show(5)"
   ]
  },
  {
   "cell_type": "code",
   "execution_count": 22,
   "id": "bacterial-boulder",
   "metadata": {},
   "outputs": [
    {
     "name": "stdout",
     "output_type": "stream",
     "text": [
      "+-------+------+\n",
      "|book_id|rating|\n",
      "+-------+------+\n",
      "|      1|     1|\n",
      "|      1|     1|\n",
      "|      2|     1|\n",
      "|      2|     1|\n",
      "|      2|     1|\n",
      "+-------+------+\n",
      "only showing top 5 rows\n",
      "\n"
     ]
    }
   ],
   "source": [
    "# using select and filter together\n",
    "ratings_df.select('book_id','rating').filter('rating<2').show(5)"
   ]
  },
  {
   "cell_type": "code",
   "execution_count": 23,
   "id": "popular-billy",
   "metadata": {},
   "outputs": [],
   "source": [
    "survey_df = spark.read.csv('C:\\\\Users\\\\ADMIN11\\\\Desktop\\\\csv\\\\Social_Network_Ads.csv',\n",
    "                          header=True,inferSchema=True)"
   ]
  },
  {
   "cell_type": "code",
   "execution_count": 24,
   "id": "political-monroe",
   "metadata": {},
   "outputs": [
    {
     "name": "stdout",
     "output_type": "stream",
     "text": [
      "+--------+------+---+---------------+---------+\n",
      "| User ID|Gender|Age|EstimatedSalary|Purchased|\n",
      "+--------+------+---+---------------+---------+\n",
      "|15624510|  Male| 19|          19000|        0|\n",
      "|15810944|  Male| 35|          20000|        0|\n",
      "|15668575|Female| 26|          43000|        0|\n",
      "|15603246|Female| 27|          57000|        0|\n",
      "|15804002|  Male| 19|          76000|        0|\n",
      "+--------+------+---+---------------+---------+\n",
      "only showing top 5 rows\n",
      "\n"
     ]
    }
   ],
   "source": [
    "survey_df.show(5)"
   ]
  },
  {
   "cell_type": "code",
   "execution_count": 25,
   "id": "excessive-sheet",
   "metadata": {},
   "outputs": [
    {
     "name": "stdout",
     "output_type": "stream",
     "text": [
      "+--------+------+\n",
      "| User ID|Gender|\n",
      "+--------+------+\n",
      "|15810944|  Male|\n",
      "|15668575|Female|\n",
      "|15603246|Female|\n",
      "|15728773|  Male|\n",
      "|15598044|Female|\n",
      "|15694829|Female|\n",
      "|15727311|Female|\n",
      "|15570769|Female|\n",
      "|15606274|Female|\n",
      "|15704987|  Male|\n",
      "|15697686|  Male|\n",
      "|15733883|  Male|\n",
      "|15617482|  Male|\n",
      "|15704583|  Male|\n",
      "|15621083|Female|\n",
      "+--------+------+\n",
      "only showing top 15 rows\n",
      "\n"
     ]
    }
   ],
   "source": [
    "survey_df.select('User ID','Gender').filter('Age>25').show(15)"
   ]
  },
  {
   "cell_type": "code",
   "execution_count": 26,
   "id": "digital-selection",
   "metadata": {},
   "outputs": [
    {
     "data": {
      "text/plain": [
       "400"
      ]
     },
     "execution_count": 26,
     "metadata": {},
     "output_type": "execute_result"
    }
   ],
   "source": [
    "survey_df.count()"
   ]
  },
  {
   "cell_type": "code",
   "execution_count": 27,
   "id": "color-perspective",
   "metadata": {},
   "outputs": [
    {
     "data": {
      "text/plain": [
       "981756"
      ]
     },
     "execution_count": 27,
     "metadata": {},
     "output_type": "execute_result"
    }
   ],
   "source": [
    "ratings_df.count()"
   ]
  },
  {
   "cell_type": "code",
   "execution_count": 28,
   "id": "greek-royalty",
   "metadata": {},
   "outputs": [
    {
     "data": {
      "text/plain": [
       "53424"
      ]
     },
     "execution_count": 28,
     "metadata": {},
     "output_type": "execute_result"
    }
   ],
   "source": [
    "ratings_df.select('user_id').distinct().count()"
   ]
  },
  {
   "cell_type": "code",
   "execution_count": 29,
   "id": "formed-douglas",
   "metadata": {},
   "outputs": [
    {
     "data": {
      "text/plain": [
       "980112"
      ]
     },
     "execution_count": 29,
     "metadata": {},
     "output_type": "execute_result"
    }
   ],
   "source": [
    "ratings_df.drop_duplicates().count()"
   ]
  },
  {
   "cell_type": "code",
   "execution_count": 30,
   "id": "bored-speaker",
   "metadata": {},
   "outputs": [
    {
     "name": "stdout",
     "output_type": "stream",
     "text": [
      "+-------+-----------------+------------------+------------------+\n",
      "|summary|          book_id|           user_id|            rating|\n",
      "+-------+-----------------+------------------+------------------+\n",
      "|  count|           981756|            981756|            981756|\n",
      "|   mean|4943.275635697668|25616.759933221696|3.8565335989797873|\n",
      "| stddev|2873.207414896197| 15228.33882588251|0.9839408559620116|\n",
      "|    min|                1|                 1|                 1|\n",
      "|    max|            10000|             53424|                 5|\n",
      "+-------+-----------------+------------------+------------------+\n",
      "\n"
     ]
    }
   ],
   "source": [
    "# similar to df.describe in pandas\n",
    "ratings_df.describe().show()"
   ]
  },
  {
   "cell_type": "code",
   "execution_count": 31,
   "id": "underlying-caution",
   "metadata": {},
   "outputs": [
    {
     "name": "stdout",
     "output_type": "stream",
     "text": [
      "+-------+-------+------+\n",
      "|book_id|user_id|rating|\n",
      "+-------+-------+------+\n",
      "|      1|    314|     5|\n",
      "|      1|    439|     3|\n",
      "|      1|    588|     5|\n",
      "|      1|   1169|     4|\n",
      "|      1|   1185|     4|\n",
      "+-------+-------+------+\n",
      "only showing top 5 rows\n",
      "\n"
     ]
    }
   ],
   "source": [
    "ratings_df.dropna().show(5)"
   ]
  },
  {
   "cell_type": "markdown",
   "id": "approved-nation",
   "metadata": {},
   "source": [
    "next we ll move to groupby and aggregate functions"
   ]
  },
  {
   "cell_type": "code",
   "execution_count": 32,
   "id": "reserved-university",
   "metadata": {},
   "outputs": [
    {
     "name": "stdout",
     "output_type": "stream",
     "text": [
      "+------+------+\n",
      "|rating| count|\n",
      "+------+------+\n",
      "|     1| 19575|\n",
      "|     3|248623|\n",
      "|     5|292961|\n",
      "|     4|357366|\n",
      "|     2| 63231|\n",
      "+------+------+\n",
      "\n"
     ]
    }
   ],
   "source": [
    "ratings_df.groupby('rating').count().show()"
   ]
  },
  {
   "cell_type": "code",
   "execution_count": 33,
   "id": "smoking-italic",
   "metadata": {},
   "outputs": [
    {
     "name": "stdout",
     "output_type": "stream",
     "text": [
      "+---+-----+\n",
      "|Age|count|\n",
      "+---+-----+\n",
      "| 31|   11|\n",
      "| 53|    5|\n",
      "| 34|    6|\n",
      "| 28|   12|\n",
      "| 26|   16|\n",
      "+---+-----+\n",
      "only showing top 5 rows\n",
      "\n"
     ]
    }
   ],
   "source": [
    "survey_df.groupby('Age').count().show(5)"
   ]
  },
  {
   "cell_type": "code",
   "execution_count": 34,
   "id": "pregnant-allocation",
   "metadata": {},
   "outputs": [
    {
     "name": "stdout",
     "output_type": "stream",
     "text": [
      "+---------+-----+\n",
      "|Purchased|count|\n",
      "+---------+-----+\n",
      "|        1|  143|\n",
      "|        0|  257|\n",
      "+---------+-----+\n",
      "\n"
     ]
    }
   ],
   "source": [
    "survey_df.groupby('Purchased').count().show()"
   ]
  },
  {
   "cell_type": "code",
   "execution_count": 35,
   "id": "hawaiian-uganda",
   "metadata": {},
   "outputs": [
    {
     "data": {
      "text/html": [
       "<div>\n",
       "<style scoped>\n",
       "    .dataframe tbody tr th:only-of-type {\n",
       "        vertical-align: middle;\n",
       "    }\n",
       "\n",
       "    .dataframe tbody tr th {\n",
       "        vertical-align: top;\n",
       "    }\n",
       "\n",
       "    .dataframe thead th {\n",
       "        text-align: right;\n",
       "    }\n",
       "</style>\n",
       "<table border=\"1\" class=\"dataframe\">\n",
       "  <thead>\n",
       "    <tr style=\"text-align: right;\">\n",
       "      <th></th>\n",
       "      <th>Gender</th>\n",
       "      <th>Age</th>\n",
       "      <th>count</th>\n",
       "    </tr>\n",
       "  </thead>\n",
       "  <tbody>\n",
       "    <tr>\n",
       "      <th>0</th>\n",
       "      <td>Female</td>\n",
       "      <td>47</td>\n",
       "      <td>8</td>\n",
       "    </tr>\n",
       "    <tr>\n",
       "      <th>1</th>\n",
       "      <td>Female</td>\n",
       "      <td>20</td>\n",
       "      <td>4</td>\n",
       "    </tr>\n",
       "    <tr>\n",
       "      <th>2</th>\n",
       "      <td>Female</td>\n",
       "      <td>35</td>\n",
       "      <td>13</td>\n",
       "    </tr>\n",
       "    <tr>\n",
       "      <th>3</th>\n",
       "      <td>Female</td>\n",
       "      <td>37</td>\n",
       "      <td>10</td>\n",
       "    </tr>\n",
       "    <tr>\n",
       "      <th>4</th>\n",
       "      <td>Female</td>\n",
       "      <td>27</td>\n",
       "      <td>8</td>\n",
       "    </tr>\n",
       "    <tr>\n",
       "      <th>...</th>\n",
       "      <td>...</td>\n",
       "      <td>...</td>\n",
       "      <td>...</td>\n",
       "    </tr>\n",
       "    <tr>\n",
       "      <th>78</th>\n",
       "      <td>Female</td>\n",
       "      <td>18</td>\n",
       "      <td>3</td>\n",
       "    </tr>\n",
       "    <tr>\n",
       "      <th>79</th>\n",
       "      <td>Female</td>\n",
       "      <td>36</td>\n",
       "      <td>5</td>\n",
       "    </tr>\n",
       "    <tr>\n",
       "      <th>80</th>\n",
       "      <td>Male</td>\n",
       "      <td>40</td>\n",
       "      <td>11</td>\n",
       "    </tr>\n",
       "    <tr>\n",
       "      <th>81</th>\n",
       "      <td>Male</td>\n",
       "      <td>34</td>\n",
       "      <td>3</td>\n",
       "    </tr>\n",
       "    <tr>\n",
       "      <th>82</th>\n",
       "      <td>Female</td>\n",
       "      <td>53</td>\n",
       "      <td>4</td>\n",
       "    </tr>\n",
       "  </tbody>\n",
       "</table>\n",
       "<p>83 rows × 3 columns</p>\n",
       "</div>"
      ],
      "text/plain": [
       "    Gender  Age  count\n",
       "0   Female   47      8\n",
       "1   Female   20      4\n",
       "2   Female   35     13\n",
       "3   Female   37     10\n",
       "4   Female   27      8\n",
       "..     ...  ...    ...\n",
       "78  Female   18      3\n",
       "79  Female   36      5\n",
       "80    Male   40     11\n",
       "81    Male   34      3\n",
       "82  Female   53      4\n",
       "\n",
       "[83 rows x 3 columns]"
      ]
     },
     "execution_count": 35,
     "metadata": {},
     "output_type": "execute_result"
    }
   ],
   "source": [
    "survey_df.groupby('Gender','Age').count().toPandas()"
   ]
  },
  {
   "cell_type": "code",
   "execution_count": 36,
   "id": "adjustable-mistress",
   "metadata": {
    "scrolled": true
   },
   "outputs": [
    {
     "name": "stdout",
     "output_type": "stream",
     "text": [
      "+--------+------+---+---------------+---------+\n",
      "| User ID|Gender|Age|EstimatedSalary|Purchased|\n",
      "+--------+------+---+---------------+---------+\n",
      "|15624510|  Male| 19|          19000|        0|\n",
      "|15810944|  Male| 35|          20000|        0|\n",
      "|15668575|Female| 26|          43000|        0|\n",
      "|15603246|Female| 27|          57000|        0|\n",
      "|15804002|  Male| 19|          76000|        0|\n",
      "+--------+------+---+---------------+---------+\n",
      "only showing top 5 rows\n",
      "\n"
     ]
    }
   ],
   "source": [
    "survey_df.show(5)"
   ]
  },
  {
   "cell_type": "code",
   "execution_count": 37,
   "id": "common-advocate",
   "metadata": {},
   "outputs": [
    {
     "data": {
      "text/html": [
       "<div>\n",
       "<style scoped>\n",
       "    .dataframe tbody tr th:only-of-type {\n",
       "        vertical-align: middle;\n",
       "    }\n",
       "\n",
       "    .dataframe tbody tr th {\n",
       "        vertical-align: top;\n",
       "    }\n",
       "\n",
       "    .dataframe thead th {\n",
       "        text-align: right;\n",
       "    }\n",
       "</style>\n",
       "<table border=\"1\" class=\"dataframe\">\n",
       "  <thead>\n",
       "    <tr style=\"text-align: right;\">\n",
       "      <th></th>\n",
       "      <th>Gender</th>\n",
       "      <th>EstimatedSalary</th>\n",
       "      <th>min(User ID)</th>\n",
       "      <th>min(Age)</th>\n",
       "      <th>min(EstimatedSalary)</th>\n",
       "      <th>min(Purchased)</th>\n",
       "    </tr>\n",
       "  </thead>\n",
       "  <tbody>\n",
       "    <tr>\n",
       "      <th>0</th>\n",
       "      <td>Female</td>\n",
       "      <td>82000</td>\n",
       "      <td>15611191</td>\n",
       "      <td>20</td>\n",
       "      <td>82000</td>\n",
       "      <td>0</td>\n",
       "    </tr>\n",
       "    <tr>\n",
       "      <th>1</th>\n",
       "      <td>Male</td>\n",
       "      <td>51000</td>\n",
       "      <td>15693264</td>\n",
       "      <td>38</td>\n",
       "      <td>51000</td>\n",
       "      <td>0</td>\n",
       "    </tr>\n",
       "    <tr>\n",
       "      <th>2</th>\n",
       "      <td>Female</td>\n",
       "      <td>65000</td>\n",
       "      <td>15717560</td>\n",
       "      <td>35</td>\n",
       "      <td>65000</td>\n",
       "      <td>0</td>\n",
       "    </tr>\n",
       "    <tr>\n",
       "      <th>3</th>\n",
       "      <td>Male</td>\n",
       "      <td>63000</td>\n",
       "      <td>15578006</td>\n",
       "      <td>23</td>\n",
       "      <td>63000</td>\n",
       "      <td>0</td>\n",
       "    </tr>\n",
       "    <tr>\n",
       "      <th>4</th>\n",
       "      <td>Female</td>\n",
       "      <td>107000</td>\n",
       "      <td>15639576</td>\n",
       "      <td>47</td>\n",
       "      <td>107000</td>\n",
       "      <td>1</td>\n",
       "    </tr>\n",
       "    <tr>\n",
       "      <th>...</th>\n",
       "      <td>...</td>\n",
       "      <td>...</td>\n",
       "      <td>...</td>\n",
       "      <td>...</td>\n",
       "      <td>...</td>\n",
       "      <td>...</td>\n",
       "    </tr>\n",
       "    <tr>\n",
       "      <th>187</th>\n",
       "      <td>Female</td>\n",
       "      <td>96000</td>\n",
       "      <td>15666675</td>\n",
       "      <td>27</td>\n",
       "      <td>96000</td>\n",
       "      <td>0</td>\n",
       "    </tr>\n",
       "    <tr>\n",
       "      <th>188</th>\n",
       "      <td>Female</td>\n",
       "      <td>23000</td>\n",
       "      <td>15595228</td>\n",
       "      <td>20</td>\n",
       "      <td>23000</td>\n",
       "      <td>0</td>\n",
       "    </tr>\n",
       "    <tr>\n",
       "      <th>189</th>\n",
       "      <td>Female</td>\n",
       "      <td>87000</td>\n",
       "      <td>15667265</td>\n",
       "      <td>28</td>\n",
       "      <td>87000</td>\n",
       "      <td>0</td>\n",
       "    </tr>\n",
       "    <tr>\n",
       "      <th>190</th>\n",
       "      <td>Female</td>\n",
       "      <td>63000</td>\n",
       "      <td>15577178</td>\n",
       "      <td>22</td>\n",
       "      <td>63000</td>\n",
       "      <td>0</td>\n",
       "    </tr>\n",
       "    <tr>\n",
       "      <th>191</th>\n",
       "      <td>Female</td>\n",
       "      <td>138000</td>\n",
       "      <td>15761950</td>\n",
       "      <td>48</td>\n",
       "      <td>138000</td>\n",
       "      <td>1</td>\n",
       "    </tr>\n",
       "  </tbody>\n",
       "</table>\n",
       "<p>192 rows × 6 columns</p>\n",
       "</div>"
      ],
      "text/plain": [
       "     Gender  EstimatedSalary  min(User ID)  min(Age)  min(EstimatedSalary)  \\\n",
       "0    Female            82000      15611191        20                 82000   \n",
       "1      Male            51000      15693264        38                 51000   \n",
       "2    Female            65000      15717560        35                 65000   \n",
       "3      Male            63000      15578006        23                 63000   \n",
       "4    Female           107000      15639576        47                107000   \n",
       "..      ...              ...           ...       ...                   ...   \n",
       "187  Female            96000      15666675        27                 96000   \n",
       "188  Female            23000      15595228        20                 23000   \n",
       "189  Female            87000      15667265        28                 87000   \n",
       "190  Female            63000      15577178        22                 63000   \n",
       "191  Female           138000      15761950        48                138000   \n",
       "\n",
       "     min(Purchased)  \n",
       "0                 0  \n",
       "1                 0  \n",
       "2                 0  \n",
       "3                 0  \n",
       "4                 1  \n",
       "..              ...  \n",
       "187               0  \n",
       "188               0  \n",
       "189               0  \n",
       "190               0  \n",
       "191               1  \n",
       "\n",
       "[192 rows x 6 columns]"
      ]
     },
     "execution_count": 37,
     "metadata": {},
     "output_type": "execute_result"
    }
   ],
   "source": [
    "survey_df.groupby('Gender','EstimatedSalary').min().toPandas()"
   ]
  },
  {
   "cell_type": "code",
   "execution_count": 38,
   "id": "grave-forge",
   "metadata": {},
   "outputs": [
    {
     "data": {
      "text/html": [
       "<div>\n",
       "<style scoped>\n",
       "    .dataframe tbody tr th:only-of-type {\n",
       "        vertical-align: middle;\n",
       "    }\n",
       "\n",
       "    .dataframe tbody tr th {\n",
       "        vertical-align: top;\n",
       "    }\n",
       "\n",
       "    .dataframe thead th {\n",
       "        text-align: right;\n",
       "    }\n",
       "</style>\n",
       "<table border=\"1\" class=\"dataframe\">\n",
       "  <thead>\n",
       "    <tr style=\"text-align: right;\">\n",
       "      <th></th>\n",
       "      <th>max(Age)</th>\n",
       "    </tr>\n",
       "  </thead>\n",
       "  <tbody>\n",
       "    <tr>\n",
       "      <th>0</th>\n",
       "      <td>60</td>\n",
       "    </tr>\n",
       "  </tbody>\n",
       "</table>\n",
       "</div>"
      ],
      "text/plain": [
       "   max(Age)\n",
       "0        60"
      ]
     },
     "execution_count": 38,
     "metadata": {},
     "output_type": "execute_result"
    }
   ],
   "source": [
    "survey_df.agg({'Age':'max'}).toPandas()"
   ]
  },
  {
   "cell_type": "code",
   "execution_count": 39,
   "id": "interpreted-comparison",
   "metadata": {},
   "outputs": [
    {
     "data": {
      "text/html": [
       "<div>\n",
       "<style scoped>\n",
       "    .dataframe tbody tr th:only-of-type {\n",
       "        vertical-align: middle;\n",
       "    }\n",
       "\n",
       "    .dataframe tbody tr th {\n",
       "        vertical-align: top;\n",
       "    }\n",
       "\n",
       "    .dataframe thead th {\n",
       "        text-align: right;\n",
       "    }\n",
       "</style>\n",
       "<table border=\"1\" class=\"dataframe\">\n",
       "  <thead>\n",
       "    <tr style=\"text-align: right;\">\n",
       "      <th></th>\n",
       "      <th>count(Age)</th>\n",
       "    </tr>\n",
       "  </thead>\n",
       "  <tbody>\n",
       "    <tr>\n",
       "      <th>0</th>\n",
       "      <td>400</td>\n",
       "    </tr>\n",
       "  </tbody>\n",
       "</table>\n",
       "</div>"
      ],
      "text/plain": [
       "   count(Age)\n",
       "0         400"
      ]
     },
     "execution_count": 39,
     "metadata": {},
     "output_type": "execute_result"
    }
   ],
   "source": [
    "survey_df.agg({'Age':'count'}).toPandas()"
   ]
  },
  {
   "cell_type": "code",
   "execution_count": 40,
   "id": "configured-signature",
   "metadata": {},
   "outputs": [
    {
     "name": "stdout",
     "output_type": "stream",
     "text": [
      "+-----------+\n",
      "|max(rating)|\n",
      "+-----------+\n",
      "|          5|\n",
      "+-----------+\n",
      "\n"
     ]
    }
   ],
   "source": [
    "ratings_df.agg({'rating':'max'}).show()"
   ]
  },
  {
   "cell_type": "markdown",
   "id": "inappropriate-actor",
   "metadata": {},
   "source": [
    "The most needful part of sql is merging data, next we ll see how to do that\n",
    "1. join function would be applied \n",
    "2. remember we need one common feature in 2 datasets in order to merge them"
   ]
  },
  {
   "cell_type": "code",
   "execution_count": 41,
   "id": "intermediate-attention",
   "metadata": {},
   "outputs": [],
   "source": [
    "rating_book_df = ratings_df.join(books_df,books_df.book_id == ratings_df.book_id)"
   ]
  },
  {
   "cell_type": "markdown",
   "id": "nutritional-newspaper",
   "metadata": {},
   "source": [
    "Code flow/logic:\n",
    "1. df.join(df2, condition of joining)"
   ]
  },
  {
   "cell_type": "code",
   "execution_count": 42,
   "id": "pending-leadership",
   "metadata": {},
   "outputs": [
    {
     "name": "stdout",
     "output_type": "stream",
     "text": [
      "+-------+------+--------------------+\n",
      "|user_id|rating|               title|\n",
      "+-------+------+--------------------+\n",
      "|    314|     5|Harry Potter and ...|\n",
      "|    439|     3|Harry Potter and ...|\n",
      "|    588|     5|Harry Potter and ...|\n",
      "|   1169|     4|Harry Potter and ...|\n",
      "|   1185|     4|Harry Potter and ...|\n",
      "+-------+------+--------------------+\n",
      "only showing top 5 rows\n",
      "\n"
     ]
    }
   ],
   "source": [
    "rating_book_df.select('user_id','rating','title').show(5)"
   ]
  },
  {
   "cell_type": "markdown",
   "id": "fresh-converter",
   "metadata": {},
   "source": [
    "If we want to change the value of a particular column "
   ]
  },
  {
   "cell_type": "code",
   "execution_count": 43,
   "id": "spatial-sarah",
   "metadata": {},
   "outputs": [
    {
     "name": "stdout",
     "output_type": "stream",
     "text": [
      "+-------+-------+------+\n",
      "|book_id|user_id|rating|\n",
      "+-------+-------+------+\n",
      "|      1|    314|    10|\n",
      "|      1|    439|     6|\n",
      "|      1|    588|    10|\n",
      "|      1|   1169|     8|\n",
      "+-------+-------+------+\n",
      "only showing top 4 rows\n",
      "\n"
     ]
    }
   ],
   "source": [
    "ratings_df.withColumn('rating',ratings_df.rating*2).show(4)"
   ]
  },
  {
   "cell_type": "code",
   "execution_count": 44,
   "id": "automatic-updating",
   "metadata": {},
   "outputs": [
    {
     "name": "stdout",
     "output_type": "stream",
     "text": [
      "+--------+------+---+---------------+---------+\n",
      "| User ID|Gender|Age|EstimatedSalary|Purchased|\n",
      "+--------+------+---+---------------+---------+\n",
      "|15624510|  null| 19|          19000|        0|\n",
      "|15810944|  null| 35|          20000|        0|\n",
      "|15668575|  null| 26|          43000|        0|\n",
      "|15603246|  null| 27|          57000|        0|\n",
      "|15804002|  null| 19|          76000|        0|\n",
      "+--------+------+---+---------------+---------+\n",
      "only showing top 5 rows\n",
      "\n"
     ]
    }
   ],
   "source": [
    "survey_df.withColumn('Gender',survey_df.Gender*'M').show(5)\n",
    "## check how to change string values ie column with string values"
   ]
  },
  {
   "cell_type": "code",
   "execution_count": 45,
   "id": "fuzzy-violence",
   "metadata": {},
   "outputs": [
    {
     "name": "stdout",
     "output_type": "stream",
     "text": [
      "+--------+------+---+---------------+---------+\n",
      "| User ID|Gender|Age|EstimatedSalary|Purchased|\n",
      "+--------+------+---+---------------+---------+\n",
      "|15624510|  Male| 19|          19000|        0|\n",
      "|15810944|  Male| 35|          20000|        0|\n",
      "+--------+------+---+---------------+---------+\n",
      "only showing top 2 rows\n",
      "\n"
     ]
    }
   ],
   "source": [
    "survey_df.show(2)"
   ]
  },
  {
   "cell_type": "code",
   "execution_count": null,
   "id": "earlier-shore",
   "metadata": {},
   "outputs": [],
   "source": []
  }
 ],
 "metadata": {
  "kernelspec": {
   "display_name": "Python 3",
   "language": "python",
   "name": "python3"
  },
  "language_info": {
   "codemirror_mode": {
    "name": "ipython",
    "version": 3
   },
   "file_extension": ".py",
   "mimetype": "text/x-python",
   "name": "python",
   "nbconvert_exporter": "python",
   "pygments_lexer": "ipython3",
   "version": "3.9.2"
  }
 },
 "nbformat": 4,
 "nbformat_minor": 5
}
